{
 "cells": [
  {
   "cell_type": "code",
   "execution_count": 1,
   "metadata": {},
   "outputs": [],
   "source": [
    "import pandas as pd\n",
    "import numpy as np\n",
    "import pickle\n",
    "import spacy"
   ]
  },
  {
   "cell_type": "code",
   "execution_count": 2,
   "metadata": {},
   "outputs": [],
   "source": [
    "# Load English tokenizer, tagger, parser, NER and word vectors\n",
    "nlp = spacy.load('en_core_web_sm')"
   ]
  },
  {
   "cell_type": "code",
   "execution_count": null,
   "metadata": {},
   "outputs": [],
   "source": [
    "import pyodbc\n",
    "import sqlalchemy\n",
    "\n",
    "cn = pyodbc.connect(driver='SQL Server',server='SQLP10BI',database='BIASDWDM',UID='',PWD='')\n",
    "\n",
    "sql = \"\"\"\n",
    "        select * \n",
    "        from BIASDWDM.dbo.BI_Clm_Claim\n",
    "        where InjuryYear >= 2017\n",
    "      \"\"\"\n",
    "df = pd.read_sql(sql,cn)"
   ]
  },
  {
   "cell_type": "code",
   "execution_count": 4,
   "metadata": {},
   "outputs": [],
   "source": [
    "# mask to filter only those claims whose 3 descriptions (Worker, Employer and Physician) exist\n",
    "mask_not_null_p_a_w = ((df.EmployerIncidentDescription.str.len() >0 ) & \n",
    "                       (df.WorkerIncidentDescription.str.len() >0 ) & \n",
    "                       (df.PhysicianIncidentDescription.str.len() > 0 ))\n",
    "\n",
    "df_to_test = df[df.InjuryYear == 2018] \\\n",
    "               .loc[mask_not_null_p_a_w,['EmployerIncidentDescription','WorkerIncidentDescription','PhysicianIncidentDescription']] \\\n",
    "               .reset_index() \\\n",
    "               .drop('index',axis=1) "
   ]
  },
  {
   "cell_type": "code",
   "execution_count": 5,
   "metadata": {},
   "outputs": [
    {
     "data": {
      "text/html": [
       "<div>\n",
       "<style scoped>\n",
       "    .dataframe tbody tr th:only-of-type {\n",
       "        vertical-align: middle;\n",
       "    }\n",
       "\n",
       "    .dataframe tbody tr th {\n",
       "        vertical-align: top;\n",
       "    }\n",
       "\n",
       "    .dataframe thead th {\n",
       "        text-align: right;\n",
       "    }\n",
       "</style>\n",
       "<table border=\"1\" class=\"dataframe\">\n",
       "  <thead>\n",
       "    <tr style=\"text-align: right;\">\n",
       "      <th></th>\n",
       "      <th>EmployerIncidentDescription</th>\n",
       "      <th>WorkerIncidentDescription</th>\n",
       "      <th>PhysicianIncidentDescription</th>\n",
       "    </tr>\n",
       "  </thead>\n",
       "  <tbody>\n",
       "    <tr>\n",
       "      <th>0</th>\n",
       "      <td>The worker was walking on his lunch break for ...</td>\n",
       "      <td>TAKING MY LUNCH WALK AND SLIPPED WITHOUT WARNI...</td>\n",
       "      <td>FELL ON ICE AT WORK 2 WEEKS GO, AFTERWARDS +++...</td>\n",
       "    </tr>\n",
       "    <tr>\n",
       "      <th>1</th>\n",
       "      <td>Lifting 10'x10\" blank into loader bucket and h...</td>\n",
       "      <td>Worker is a driver. On Mar 27th between delive...</td>\n",
       "      <td>ABOUT 11. 30 AM, HE WAS LIFTING A BIG BIN AND ...</td>\n",
       "    </tr>\n",
       "    <tr>\n",
       "      <th>2</th>\n",
       "      <td>Randy was fueling up the machine, spilled on t...</td>\n",
       "      <td>The worker is a Permanent Full-Time Equipment ...</td>\n",
       "      <td>PATIENT WAS HANGING OFF L ARM, FELT PAIN IN TH...</td>\n",
       "    </tr>\n",
       "    <tr>\n",
       "      <th>3</th>\n",
       "      <td>01/21/2018 at 17:30 at the Box Canyon Chain up...</td>\n",
       "      <td>Worker is a Truck Driver who has had his compa...</td>\n",
       "      <td>S low back pain putting chains  (winter) on tr...</td>\n",
       "    </tr>\n",
       "    <tr>\n",
       "      <th>4</th>\n",
       "      <td>Employee reports he was moving a DC3 and sudde...</td>\n",
       "      <td>Worker is a service technician for the acciden...</td>\n",
       "      <td>S: WAS PICKING UP A COOLER AT COUNTER HEIGHT A...</td>\n",
       "    </tr>\n",
       "  </tbody>\n",
       "</table>\n",
       "</div>"
      ],
      "text/plain": [
       "                         EmployerIncidentDescription  \\\n",
       "0  The worker was walking on his lunch break for ...   \n",
       "1  Lifting 10'x10\" blank into loader bucket and h...   \n",
       "2  Randy was fueling up the machine, spilled on t...   \n",
       "3  01/21/2018 at 17:30 at the Box Canyon Chain up...   \n",
       "4  Employee reports he was moving a DC3 and sudde...   \n",
       "\n",
       "                           WorkerIncidentDescription  \\\n",
       "0  TAKING MY LUNCH WALK AND SLIPPED WITHOUT WARNI...   \n",
       "1  Worker is a driver. On Mar 27th between delive...   \n",
       "2  The worker is a Permanent Full-Time Equipment ...   \n",
       "3  Worker is a Truck Driver who has had his compa...   \n",
       "4  Worker is a service technician for the acciden...   \n",
       "\n",
       "                        PhysicianIncidentDescription  \n",
       "0  FELL ON ICE AT WORK 2 WEEKS GO, AFTERWARDS +++...  \n",
       "1  ABOUT 11. 30 AM, HE WAS LIFTING A BIG BIN AND ...  \n",
       "2  PATIENT WAS HANGING OFF L ARM, FELT PAIN IN TH...  \n",
       "3  S low back pain putting chains  (winter) on tr...  \n",
       "4  S: WAS PICKING UP A COOLER AT COUNTER HEIGHT A...  "
      ]
     },
     "execution_count": 5,
     "metadata": {},
     "output_type": "execute_result"
    }
   ],
   "source": [
    "df_to_test.head()"
   ]
  },
  {
   "cell_type": "code",
   "execution_count": 6,
   "metadata": {},
   "outputs": [],
   "source": [
    "from nltk.corpus import stopwords\n",
    "from nltk import RegexpTokenizer\n",
    "tokenizer = RegexpTokenizer(r'\\w+')\n",
    "stopword_set = set(stopwords.words('english'))\n",
    "\n",
    "def nlp_clean(data):\n",
    "    new_data = []\n",
    "    new_str = data.lower()\n",
    "    dlist = tokenizer.tokenize(new_str)\n",
    "    dlist = list(set(dlist).difference(stopword_set))\n",
    "    new_data.append(dlist)\n",
    "    return dlist"
   ]
  },
  {
   "cell_type": "code",
   "execution_count": 7,
   "metadata": {},
   "outputs": [],
   "source": [
    "df_to_test['similarity_WE'] = df_to_test.apply(lambda x: nlp(' '.join(nlp_clean(x['WorkerIncidentDescription']))) \\\n",
    "                                                         .similarity(nlp(' '.join(nlp_clean(x['EmployerIncidentDescription'])))) \\\n",
    "                                              , axis=1)"
   ]
  },
  {
   "cell_type": "code",
   "execution_count": 8,
   "metadata": {},
   "outputs": [],
   "source": [
    "df_to_test['similarity_WP'] = df_to_test.apply(lambda x: nlp(' '.join(nlp_clean(x['WorkerIncidentDescription']))) \\\n",
    "                                                         .similarity(nlp(' '.join(nlp_clean(x['PhysicianIncidentDescription'])))) \\\n",
    "                                              , axis=1)"
   ]
  },
  {
   "cell_type": "code",
   "execution_count": 9,
   "metadata": {},
   "outputs": [],
   "source": [
    "df_to_test['similarity_EP'] = df_to_test.apply(lambda x: nlp(' '.join(nlp_clean(x['EmployerIncidentDescription']))) \\\n",
    "                                                         .similarity(nlp(' '.join(nlp_clean(x['PhysicianIncidentDescription'])))) \\\n",
    "                                              , axis=1)"
   ]
  },
  {
   "cell_type": "code",
   "execution_count": 10,
   "metadata": {},
   "outputs": [
    {
     "data": {
      "image/png": "[encoded data removed]",
      "text/plain": [
       "<matplotlib.figure.Figure at 0x8d492978>"
      ]
     },
     "metadata": {},
     "output_type": "display_data"
    }
   ],
   "source": [
    "import matplotlib.pyplot as plt\n",
    "%matplotlib inline\n",
    "\n",
    "fig, (ax1,ax2,ax3) = plt.subplots(nrows=1,ncols=3,figsize=(15,5), sharey=True, sharex=True)\n",
    "df_to_test.similarity_WE.hist(bins=100,ax=ax1)\n",
    "df_to_test.similarity_WP.hist(bins=100,ax=ax2)\n",
    "df_to_test.similarity_EP.hist(bins=100,ax=ax3)\n",
    "_ = ax1.set_title('Worker x Employer')\n",
    "_ = ax2.set_title('Worker x Physician')\n",
    "_ = ax3.set_title('Employer x Physician')\n"
   ]
  },
  {
   "cell_type": "code",
   "execution_count": 15,
   "metadata": {},
   "outputs": [],
   "source": [
    "pd.set_option('display.float_format', lambda x: '%.3f' % x) # do not show large numbers with scientific format\n",
    "pd.set_option('display.max_colwidth', -1) # show full content of pandas dataframe cells"
   ]
  },
  {
   "cell_type": "code",
   "execution_count": 34,
   "metadata": {},
   "outputs": [
    {
     "data": {
      "text/plain": [
       "2876"
      ]
     },
     "execution_count": 34,
     "metadata": {},
     "output_type": "execute_result"
    }
   ],
   "source": [
    "# Worker and Employer\n",
    "\n",
    "# Cases with similarity above threshold\n",
    "threshold = 0.95\n",
    "df_to_test[df_to_test['similarity_WE'] >= threshold].shape[0]"
   ]
  },
  {
   "cell_type": "code",
   "execution_count": 35,
   "metadata": {},
   "outputs": [
    {
     "data": {
      "text/plain": [
       "27.185934398336325"
      ]
     },
     "execution_count": 35,
     "metadata": {},
     "output_type": "execute_result"
    }
   ],
   "source": [
    "#Percentage of cases above threshold\n",
    "(df_to_test[df_to_test['similarity_WE'] >= threshold ].shape[0]/df_to_test.shape[0])*100"
   ]
  },
  {
   "cell_type": "code",
   "execution_count": null,
   "metadata": {},
   "outputs": [],
   "source": []
  },
  {
   "cell_type": "code",
   "execution_count": 39,
   "metadata": {},
   "outputs": [
    {
     "data": {
      "text/plain": [
       "323"
      ]
     },
     "execution_count": 39,
     "metadata": {},
     "output_type": "execute_result"
    }
   ],
   "source": [
    "# Employer and Physician\n",
    "# Cases with similarity above threshold\n",
    "threshold = 0.95\n",
    "df_to_test[df_to_test['similarity_EP'] >= threshold].shape[0]"
   ]
  },
  {
   "cell_type": "code",
   "execution_count": 53,
   "metadata": {},
   "outputs": [
    {
     "data": {
      "text/html": [
       "<div>\n",
       "<style scoped>\n",
       "    .dataframe tbody tr th:only-of-type {\n",
       "        vertical-align: middle;\n",
       "    }\n",
       "\n",
       "    .dataframe tbody tr th {\n",
       "        vertical-align: top;\n",
       "    }\n",
       "\n",
       "    .dataframe thead th {\n",
       "        text-align: right;\n",
       "    }\n",
       "</style>\n",
       "<table border=\"1\" class=\"dataframe\">\n",
       "  <thead>\n",
       "    <tr style=\"text-align: right;\">\n",
       "      <th></th>\n",
       "      <th>EmployerIncidentDescription</th>\n",
       "      <th>WorkerIncidentDescription</th>\n",
       "      <th>PhysicianIncidentDescription</th>\n",
       "      <th>similarity_WE</th>\n",
       "      <th>similarity_WP</th>\n",
       "      <th>similarity_EP</th>\n",
       "    </tr>\n",
       "  </thead>\n",
       "  <tbody>\n",
       "    <tr>\n",
       "      <th>30</th>\n",
       "      <td>The worker is a permanent full time fabricator and has been with the accident employer for approximately 6 months. On Jan 04, 2018 at around 2:30PM the worker was building lumber equipment using a grinder with a brand new zip cut disc. He was cutting out slots for gears to come into the sheet metal of the conveyer. When he brought the disc up to around his head height, the grinder touched the sheet metal the disc blew apart. Pieces of metal lacerated his left hand in two separate places. He immediately stopped what he was doing and took his gloves off of both hands and realized the severity of the laceration. There was no first aid attendant so the worker went to the owner of the company who attempted to assist by pouring hydrogen peroxide on the laceration. Worker washed out immediately and applied pressure but required medical attention due to the severity and drove himself to Peace Arch Hospital.</td>\n",
       "      <td>The worker is a permanent full time fabricator and has been with the accident employer for approximately 6 months. On Jan 04, 2018 at around 2:30PM the worker was building lumber equipment using a grinder with a brand new zip cut disc. He was cutting out slots for gears to come into the sheet metal of the conveyer. When he brought the disc up to around his head height, the grinder touched the sheet metal the disc blew apart. Pieces of metal lacerated his left hand in two separate places. He immediately stopped what he was doing and took his gloves off of both hands and realized the severity of the laceration. There was no first aid attendant so the worker went to the owner of the company who attempted to assist by pouring hydrogen peroxide on the laceration. Worker washed out immediately and applied pressure but required medical attention due to the severity and drove himself to Peace Arch Hospital.</td>\n",
       "      <td>PATIENT CUT HIS HAND AFTER A GRINDER DISK BLEW APART., LACERATED LEFT HAND. WENT TO EMEREGENCY AT PAH, HAD STITCHES. O/E: LACTERATION DORSUM OF HAND WITH SWELLING AND BRUISING. PT STILL HAS PAIN. ASSESSMENT: HAND INJURY PLAN: SUTURES REMOVED.WILL REMAIN OFF WORK NEXT WEEK AND DO ROM EXERCISES AS HE CANNOT DO ROM EXERCISES DUE TO THE SWELLING TO RETURN TO WORK 22 JANUARY 2018 \\nCLINICAL INFORMATION COMPLETE</td>\n",
       "      <td>1.000</td>\n",
       "      <td>0.954</td>\n",
       "      <td>0.954</td>\n",
       "    </tr>\n",
       "  </tbody>\n",
       "</table>\n",
       "</div>"
      ],
      "text/plain": [
       "                                                                                                                                                                                                                                                                                                                                                                                                                                                                                                                                                                                                                                                                                                                                                                                                                                                                                                                         EmployerIncidentDescription  \\\n",
       "30  The worker is a permanent full time fabricator and has been with the accident employer for approximately 6 months. On Jan 04, 2018 at around 2:30PM the worker was building lumber equipment using a grinder with a brand new zip cut disc. He was cutting out slots for gears to come into the sheet metal of the conveyer. When he brought the disc up to around his head height, the grinder touched the sheet metal the disc blew apart. Pieces of metal lacerated his left hand in two separate places. He immediately stopped what he was doing and took his gloves off of both hands and realized the severity of the laceration. There was no first aid attendant so the worker went to the owner of the company who attempted to assist by pouring hydrogen peroxide on the laceration. Worker washed out immediately and applied pressure but required medical attention due to the severity and drove himself to Peace Arch Hospital.   \n",
       "\n",
       "                                                                                                                                                                                                                                                                                                                                                                                                                                                                                                                                                                                                                                                                                                                                                                                                                                                                                                                           WorkerIncidentDescription  \\\n",
       "30  The worker is a permanent full time fabricator and has been with the accident employer for approximately 6 months. On Jan 04, 2018 at around 2:30PM the worker was building lumber equipment using a grinder with a brand new zip cut disc. He was cutting out slots for gears to come into the sheet metal of the conveyer. When he brought the disc up to around his head height, the grinder touched the sheet metal the disc blew apart. Pieces of metal lacerated his left hand in two separate places. He immediately stopped what he was doing and took his gloves off of both hands and realized the severity of the laceration. There was no first aid attendant so the worker went to the owner of the company who attempted to assist by pouring hydrogen peroxide on the laceration. Worker washed out immediately and applied pressure but required medical attention due to the severity and drove himself to Peace Arch Hospital.   \n",
       "\n",
       "                                                                                                                                                                                                                                                                                                                                                                                                 PhysicianIncidentDescription  \\\n",
       "30  PATIENT CUT HIS HAND AFTER A GRINDER DISK BLEW APART., LACERATED LEFT HAND. WENT TO EMEREGENCY AT PAH, HAD STITCHES. O/E: LACTERATION DORSUM OF HAND WITH SWELLING AND BRUISING. PT STILL HAS PAIN. ASSESSMENT: HAND INJURY PLAN: SUTURES REMOVED.WILL REMAIN OFF WORK NEXT WEEK AND DO ROM EXERCISES AS HE CANNOT DO ROM EXERCISES DUE TO THE SWELLING TO RETURN TO WORK 22 JANUARY 2018 \\nCLINICAL INFORMATION COMPLETE   \n",
       "\n",
       "    similarity_WE  similarity_WP  similarity_EP  \n",
       "30 1.000          0.954          0.954           "
      ]
     },
     "execution_count": 53,
     "metadata": {},
     "output_type": "execute_result"
    }
   ],
   "source": [
    "df_to_test[df_to_test['similarity_EP'] >= threshold].head(1)"
   ]
  },
  {
   "cell_type": "code",
   "execution_count": 58,
   "metadata": {},
   "outputs": [
    {
     "data": {
      "text/plain": [
       "'The worker is a permanent full time fabricator and has been with the accident employer for approximately 6 months. On Jan 04, 2018 at around 2:30PM the worker was building lumber equipment using a grinder with a brand new zip cut disc. He was cutting out slots for gears to come into the sheet metal of the conveyer. When he brought the disc up to around his head height, the grinder touched the sheet metal the disc blew apart. Pieces of metal lacerated his left hand in two separate places. He immediately stopped what he was doing and took his gloves off of both hands and realized the severity of the laceration. There was no first aid attendant so the worker went to the owner of the company who attempted to assist by pouring hydrogen peroxide on the laceration. Worker washed out immediately and applied pressure but required medical attention due to the severity and drove himself to Peace Arch Hospital.'"
      ]
     },
     "execution_count": 58,
     "metadata": {},
     "output_type": "execute_result"
    }
   ],
   "source": [
    "df_to_test[df_to_test['similarity_EP'] >= threshold].iloc[0,:][1]"
   ]
  },
  {
   "cell_type": "code",
   "execution_count": 56,
   "metadata": {},
   "outputs": [
    {
     "data": {
      "text/plain": [
       "'immediately touched worker blew jan required new pieces attendant gears conveyer severity head separate took around disc lacerated company using attention peace arch applied 6 peroxide fabricator equipment gloves laceration cutting cut accident assist brought left 2 realized zip apart drove 30pm attempted hydrogen 04 building sheet slots due hospital owner time aid brand two full height months hand first stopped grinder metal medical 2018 hands pouring employer washed went lumber permanent come places pressure approximately'"
      ]
     },
     "execution_count": 56,
     "metadata": {},
     "output_type": "execute_result"
    }
   ],
   "source": [
    "' '.join(nlp_clean(df_to_test[df_to_test['similarity_EP'] >= threshold].iloc[0,:][1]))"
   ]
  },
  {
   "cell_type": "code",
   "execution_count": 57,
   "metadata": {},
   "outputs": [
    {
     "data": {
      "text/plain": [
       "'work blew removed remain exercises clinical 22 lacerated rom pt lacteration dorsum complete emeregency still cannot pain cut e left patient apart injury week bruising swelling due stitches hand plan return grinder disk 2018 assessment january went information next pah sutures'"
      ]
     },
     "execution_count": 57,
     "metadata": {},
     "output_type": "execute_result"
    }
   ],
   "source": [
    "' '.join(nlp_clean(df_to_test[df_to_test['similarity_EP'] >= threshold].iloc[0,:][2]))"
   ]
  },
  {
   "cell_type": "code",
   "execution_count": 52,
   "metadata": {},
   "outputs": [
    {
     "data": {
      "text/plain": [
       "0.9542699416853557"
      ]
     },
     "execution_count": 52,
     "metadata": {},
     "output_type": "execute_result"
    }
   ],
   "source": [
    "nlp(' '.join(nlp_clean(df_to_test[df_to_test['similarity_EP'] >= threshold].iloc[0,:][1]))) \\\n",
    ".similarity(nlp(' '.join(nlp_clean(df_to_test[df_to_test['similarity_EP'] >= threshold].iloc[0,:][2]))))"
   ]
  }
 ],
 "metadata": {
  "kernelspec": {
   "display_name": "Python 3",
   "language": "python",
   "name": "python3"
  },
  "language_info": {
   "codemirror_mode": {
    "name": "ipython",
    "version": 3
   },
   "file_extension": ".py",
   "mimetype": "text/x-python",
   "name": "python",
   "nbconvert_exporter": "python",
   "pygments_lexer": "ipython3",
   "version": "3.6.5"
  }
 },
 "nbformat": 4,
 "nbformat_minor": 2
}
