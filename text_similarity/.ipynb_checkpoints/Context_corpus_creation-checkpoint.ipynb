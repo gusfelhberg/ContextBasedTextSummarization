{
 "cells": [
  {
   "cell_type": "code",
   "execution_count": 2,
   "metadata": {},
   "outputs": [],
   "source": [
    "import pickle\n"
   ]
  },
  {
   "cell_type": "code",
   "execution_count": 10,
   "metadata": {},
   "outputs": [],
   "source": [
    "with open('corpus_sports.txt', 'r') as myfile:\n",
    "    file=myfile.read().replace('\\n', ' ')\n",
    "pickle.dump( file, open( \"corpus_sports.pkl\", \"wb\" ) )"
   ]
  },
  {
   "cell_type": "code",
   "execution_count": 6,
   "metadata": {},
   "outputs": [],
   "source": [
    "with open('corpus_politics.txt', 'r') as myfile:\n",
    "    file=myfile.read().replace('\\n', ' ')\n",
    "pickle.dump( file, open( \"corpus_politics.pkl\", \"wb\" ) )"
   ]
  },
  {
   "cell_type": "code",
   "execution_count": 7,
   "metadata": {},
   "outputs": [],
   "source": [
    "with open('corpus_science.txt', 'r') as myfile:\n",
    "    file=myfile.read().replace('\\n', ' ')\n",
    "pickle.dump( file, open( \"corpus_science.pkl\", \"wb\" ) )"
   ]
  },
  {
   "cell_type": "code",
   "execution_count": 13,
   "metadata": {},
   "outputs": [],
   "source": [
    "with open('corpus_cnn.txt', 'r') as myfile:\n",
    "    file=myfile.read().replace('\\n', ' ')\n",
    "pickle.dump( file, open( \"corpus_cnn.pkl\", \"wb\" ) )"
   ]
  },
  {
   "cell_type": "code",
   "execution_count": 4,
   "metadata": {},
   "outputs": [],
   "source": [
    "with open('corpus_dailymail.txt', 'r') as myfile:\n",
    "    file=myfile.read().replace('\\n', ' ')\n",
    "pickle.dump( file, open( \"corpus_dailymail.pkl\", \"wb\" ) )"
   ]
  },
  {
   "cell_type": "code",
   "execution_count": null,
   "metadata": {},
   "outputs": [],
   "source": []
  }
 ],
 "metadata": {
  "kernelspec": {
   "display_name": "Python 3",
   "language": "python",
   "name": "python3"
  },
  "language_info": {
   "codemirror_mode": {
    "name": "ipython",
    "version": 3
   },
   "file_extension": ".py",
   "mimetype": "text/x-python",
   "name": "python",
   "nbconvert_exporter": "python",
   "pygments_lexer": "ipython3",
   "version": "3.6.5"
  }
 },
 "nbformat": 4,
 "nbformat_minor": 2
}
